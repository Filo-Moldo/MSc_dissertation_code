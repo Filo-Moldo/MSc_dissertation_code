{
 "cells": [
  {
   "cell_type": "markdown",
   "id": "a7d4d10b-9936-42dc-8c5b-404b3e33a085",
   "metadata": {},
   "source": [
    "# Evaluate model performance during high wave events"
   ]
  },
  {
   "cell_type": "markdown",
   "id": "ff134fc5-3176-4f9b-8dc5-6b4b0eb19fb3",
   "metadata": {},
   "source": [
    "Event 1:\n",
    "\n",
    "Day 2020-12-04: 12.33 m\n",
    "\n",
    "Day 2020-12-05: 12.12 m\n",
    "\n",
    "Event 2:\n",
    "\n",
    "Day 2020-12-28: 11.49 m\n",
    "\n",
    "Day 2020-12-29: 10.69 m\n"
   ]
  },
  {
   "cell_type": "code",
   "execution_count": 363,
   "id": "179be131-8c93-4a99-918e-f64c7c582883",
   "metadata": {},
   "outputs": [],
   "source": [
    "import os\n",
    "import xarray as xr\n",
    "import numpy as np\n",
    "import pandas as pd\n",
    "import matplotlib.pyplot as plt\n",
    "import matplotlib.dates as mdates\n",
    "from sklearn.linear_model import LinearRegression\n",
    "from sklearn.metrics import mean_squared_error, r2_score, mean_absolute_error\n",
    "from scipy.stats import pearsonr\n",
    "from tensorflow.keras.models import load_model\n"
   ]
  },
  {
   "cell_type": "code",
   "execution_count": 364,
   "id": "b9349273-5bb5-4cdf-ad37-6ec4240babc8",
   "metadata": {
    "editable": true,
    "slideshow": {
     "slide_type": ""
    },
    "tags": []
   },
   "outputs": [],
   "source": [
    "# Set working directory\n",
    "os.chdir('C:/Users/filot/OneDrive - University of Strathclyde/Diss')"
   ]
  },
  {
   "cell_type": "code",
   "execution_count": 365,
   "id": "fc2263ee-cb55-4fc9-91c5-b1c50dd1ab66",
   "metadata": {
    "editable": true,
    "slideshow": {
     "slide_type": ""
    },
    "tags": [
     "parameters"
    ]
   },
   "outputs": [],
   "source": [
    "forecast_steps = 24 # to be changed accordingly every model run"
   ]
  },
  {
   "cell_type": "code",
   "execution_count": 366,
   "id": "25a46b39-846d-40c2-a8fe-0629ad3f79c4",
   "metadata": {
    "editable": true,
    "slideshow": {
     "slide_type": ""
    },
    "tags": []
   },
   "outputs": [],
   "source": [
    "input_steps = 3\n",
    "run_id = forecast_steps"
   ]
  },
  {
   "cell_type": "code",
   "execution_count": null,
   "id": "5ef28ef5-361f-4b8b-9279-a36ead31c72c",
   "metadata": {},
   "outputs": [],
   "source": [
    "# Set working directory\n",
    "os.chdir('C:/Users/filot/OneDrive - University of Strathclyde/Diss')"
   ]
  },
  {
   "cell_type": "code",
   "execution_count": 367,
   "id": "b008f557-7d23-4cd0-9123-5245c0f0e0c4",
   "metadata": {
    "editable": true,
    "slideshow": {
     "slide_type": ""
    },
    "tags": []
   },
   "outputs": [],
   "source": [
    "model_A = load_model(f'results/model_A/saved_model/{run_id}_model.keras')  # load save model"
   ]
  },
  {
   "cell_type": "code",
   "execution_count": 368,
   "id": "ca1bbfb2-3e27-455d-a26f-09b9ee5ae48b",
   "metadata": {
    "editable": true,
    "slideshow": {
     "slide_type": ""
    },
    "tags": []
   },
   "outputs": [],
   "source": [
    "model_B = load_model(f'results/model_B/saved_model/{run_id}_model.keras')  # load saved model"
   ]
  },
  {
   "cell_type": "markdown",
   "id": "177a069b-a6f9-4799-a969-bc4ec417fcaf",
   "metadata": {},
   "source": [
    "### STEP 1: Load and preprocess CMEMS wave data"
   ]
  },
  {
   "cell_type": "code",
   "execution_count": 369,
   "id": "a2f95175-b268-4229-9c7f-77f088485695",
   "metadata": {},
   "outputs": [
    {
     "name": "stdout",
     "output_type": "stream",
     "text": [
      "(48, 8, 9)\n",
      "The first time step is: 2020-12-28T00:00:00.000000000\n",
      "(48, 8, 9)\n"
     ]
    }
   ],
   "source": [
    "# Process data for period of interest over 6 years\n",
    "ds = xr.open_dataset(\"data/part9.nc\")\n",
    "\n",
    "# Extract Hmax\n",
    "hs = ds['VCMX']  # (time, lat, lon)\n",
    "\n",
    "# Select the last 17472 time steps\n",
    "hs_trimmed = hs.sel(time=slice(\"2020-12-28T00:00:00.00\", \"2020-12-29T23:00:00.00\"))\n",
    "\n",
    "print(hs_trimmed.shape)\n",
    "first_time = hs_trimmed['time'].isel(time=0).values\n",
    "print(f\"The first time step is: {first_time}\")\n",
    "\n",
    "#fill nan with zeros for land data\n",
    "hs_filled = hs_trimmed.fillna(0)\n",
    "\n",
    "# Normalize using Z-score normalization or standardization.\n",
    "mean_hs = hs_filled.mean().values\n",
    "std_hs = hs_filled.std().values\n",
    "hs_norm = (hs_filled - mean_hs) / std_hs\n",
    "\n",
    "# Convert to NumPy (transpose to time, lat, lon)\n",
    "data = hs_norm.transpose('time', 'latitude', 'longitude').values\n",
    "\n",
    "print(data.shape)"
   ]
  },
  {
   "cell_type": "markdown",
   "id": "d7549285-9db8-449a-9ece-8475e29d55ea",
   "metadata": {},
   "source": [
    "### STEP 2: Create sequence-to-one training samples"
   ]
  },
  {
   "cell_type": "code",
   "execution_count": 370,
   "id": "9281dd59-b981-47dd-b045-fe9db7013a43",
   "metadata": {},
   "outputs": [
    {
     "name": "stdout",
     "output_type": "stream",
     "text": [
      "X_test: (22, 3, 8, 9, 1) y_test: (22, 8, 9, 1)\n"
     ]
    }
   ],
   "source": [
    "def create_forecast_at_step_dataset(data, input_steps, forecast_steps, stride=1):\n",
    "    X, y = [], []\n",
    "    for t in range(0, len(data) - input_steps - forecast_steps + 1, stride):\n",
    "        X.append(data[t : t + input_steps])  # 3 past time steps\n",
    "        y.append(data[t + input_steps + forecast_steps - 1])  # specific future step\n",
    "    X = np.array(X)[..., np.newaxis]  # Add channel dim\n",
    "    y = np.array(y)[..., np.newaxis]  # Add channel dim\n",
    "    return X, y\n",
    "    \n",
    "X_test, y_test = create_forecast_at_step_dataset(data, input_steps, forecast_steps)\n",
    "print(\"X_test:\", X_test.shape, \"y_test:\", y_test.shape)"
   ]
  },
  {
   "cell_type": "markdown",
   "id": "1676fe09-1eaa-43a4-b278-94bbdd1db716",
   "metadata": {
    "editable": true,
    "slideshow": {
     "slide_type": ""
    },
    "tags": []
   },
   "source": [
    "### STEP 3: Split into training and test sets"
   ]
  },
  {
   "cell_type": "code",
   "execution_count": 371,
   "id": "5938dc9e-03f6-4c9f-ad44-49e44ae60368",
   "metadata": {
    "editable": true,
    "slideshow": {
     "slide_type": ""
    },
    "tags": []
   },
   "outputs": [
    {
     "name": "stdout",
     "output_type": "stream",
     "text": [
      "Test starts at: 2020-12-29T02:00:00.000000000\n"
     ]
    }
   ],
   "source": [
    "# Optional: get time axis\n",
    "filtered_time = hs_trimmed['time'].values\n",
    "target_times = filtered_time[input_steps + forecast_steps - 1:]\n",
    "print(\"Test starts at:\", target_times[0])"
   ]
  },
  {
   "cell_type": "markdown",
   "id": "aafa3185-32cc-47b0-8285-7ba4fcbde2ac",
   "metadata": {
    "editable": true,
    "slideshow": {
     "slide_type": ""
    },
    "tags": []
   },
   "source": [
    "## Step 4: Evaluating results"
   ]
  },
  {
   "cell_type": "markdown",
   "id": "09675e39-a5ed-4768-97ef-f6a536bdfe72",
   "metadata": {
    "editable": true,
    "slideshow": {
     "slide_type": ""
    },
    "tags": []
   },
   "source": [
    "### Evaluating model using the test sample"
   ]
  },
  {
   "cell_type": "code",
   "execution_count": 372,
   "id": "adbcfc89-a9ca-4bfd-b21b-1f084306ea5e",
   "metadata": {
    "editable": true,
    "slideshow": {
     "slide_type": ""
    },
    "tags": []
   },
   "outputs": [
    {
     "name": "stdout",
     "output_type": "stream",
     "text": [
      "\u001b[1m1/1\u001b[0m \u001b[32m━━━━━━━━━━━━━━━━━━━━\u001b[0m\u001b[37m\u001b[0m \u001b[1m1s\u001b[0m 879ms/step\n"
     ]
    }
   ],
   "source": [
    "# Predict on entire test set A\n",
    "y_pred_test_A = model_A.predict(X_test)\n",
    "\n",
    "# Denormalize\n",
    "y_pred_test_denorm_A = y_pred_test_A * std_hs + mean_hs\n",
    "y_test_denorm_A = y_test * std_hs + mean_hs"
   ]
  },
  {
   "cell_type": "code",
   "execution_count": 373,
   "id": "33e2c1b1-db1b-44cc-a4a8-ae963323ab4e",
   "metadata": {},
   "outputs": [
    {
     "name": "stdout",
     "output_type": "stream",
     "text": [
      "\u001b[1m1/1\u001b[0m \u001b[32m━━━━━━━━━━━━━━━━━━━━\u001b[0m\u001b[37m\u001b[0m \u001b[1m1s\u001b[0m 855ms/step\n"
     ]
    }
   ],
   "source": [
    "# Predict on entire test set B\n",
    "y_pred_test_B = model_B.predict(X_test)\n",
    "\n",
    "# Denormalize\n",
    "y_pred_test_denorm_B = y_pred_test_B * std_hs + mean_hs\n",
    "y_test_denorm_B = y_test * std_hs + mean_hs"
   ]
  },
  {
   "cell_type": "markdown",
   "id": "d5fcbe81-5956-436b-a134-315e68a77732",
   "metadata": {
    "editable": true,
    "slideshow": {
     "slide_type": ""
    },
    "tags": []
   },
   "source": [
    "### Calculate RMSE, SI and R2 near Praia do Norte"
   ]
  },
  {
   "cell_type": "code",
   "execution_count": 374,
   "id": "ed1a9349-ae49-41e9-8858-d872207f8d39",
   "metadata": {
    "editable": true,
    "slideshow": {
     "slide_type": ""
    },
    "tags": []
   },
   "outputs": [
    {
     "name": "stdout",
     "output_type": "stream",
     "text": [
      "4 6\n"
     ]
    }
   ],
   "source": [
    "# Get grid indices for lat=-9.1, lon=39.6\n",
    "lat_idx = np.argmin(np.abs(ds.latitude.values - 39.6))\n",
    "lon_idx = np.argmin(np.abs(ds.longitude.values - (-9.1)))\n",
    "print(lat_idx, lon_idx)"
   ]
  },
  {
   "cell_type": "code",
   "execution_count": 375,
   "id": "fd585a80-dab9-4f2c-865b-27e1fd25d9fd",
   "metadata": {
    "editable": true,
    "slideshow": {
     "slide_type": ""
    },
    "tags": []
   },
   "outputs": [
    {
     "name": "stdout",
     "output_type": "stream",
     "text": [
      "Model A - Overall RMSE near Praia do Norte (4, 6): 1.2403\n",
      "Model A - Overall SI near Praia do Norte (4, 6): 0.1329\n",
      "Model A - Overall R near Praia do Norte (4, 6): 0.8299\n"
     ]
    }
   ],
   "source": [
    "# For model A\n",
    "# Extract true and predicted values for this cell, flatten across samples and time\n",
    "true_vals_A = y_test_denorm_A[:, lat_idx, lon_idx, 0].flatten()\n",
    "pred_vals_A = y_pred_test_denorm_A[:, lat_idx, lon_idx, 0].flatten()\n",
    "\n",
    "# Calculate RMSE\n",
    "rmse_A = np.sqrt(mean_squared_error(true_vals_A, pred_vals_A))\n",
    "\n",
    "# SI\n",
    "mean_obs_point_A = np.mean(true_vals_A)\n",
    "SI_A = rmse_A / mean_obs_point_A\n",
    "\n",
    "# R\n",
    "R_A, _ = pearsonr(true_vals_A, pred_vals_A)\n",
    "\n",
    "print(f\"Model A - Overall RMSE near Praia do Norte ({lat_idx}, {lon_idx}): {rmse_A:.4f}\")\n",
    "print(f\"Model A - Overall SI near Praia do Norte ({lat_idx}, {lon_idx}): {SI_A:.4f}\")\n",
    "print(f\"Model A - Overall R near Praia do Norte ({lat_idx}, {lon_idx}): {R_A:.4f}\")"
   ]
  },
  {
   "cell_type": "code",
   "execution_count": 376,
   "id": "ab8874e3-d6e2-4722-a006-7aafe0811b6c",
   "metadata": {
    "editable": true,
    "slideshow": {
     "slide_type": ""
    },
    "tags": []
   },
   "outputs": [],
   "source": [
    "#save results in text file\n",
    "with open(f\"results/event_2/metrics_run_{run_id}.txt\", \"w\") as f:\n",
    "    f.write(f\"Model A - Overall RMSE near Praia do Norte: {rmse_A:.4f}\\n\")\n",
    "    f.write(f\"Model A - Overall SI near Praia do Norte: {SI_A:.4f}\\n\")     \n",
    "    f.write(f\"Model A - Overall R near Praia do Norte: {R_A:.4f}\\n\")    "
   ]
  },
  {
   "cell_type": "code",
   "execution_count": 377,
   "id": "49df3ebc-589a-422b-b43b-cbda2ba9dcee",
   "metadata": {
    "editable": true,
    "slideshow": {
     "slide_type": ""
    },
    "tags": []
   },
   "outputs": [
    {
     "name": "stdout",
     "output_type": "stream",
     "text": [
      "Model B - Overall RMSE near Praia do Norte (4, 6): 0.5491\n",
      "Model B - Overall SI near Praia do Norte (4, 6): 0.0589\n",
      "Model B - Overall R near Praia do Norte (4, 6): 0.7057\n"
     ]
    }
   ],
   "source": [
    "# For model B\n",
    "# Extract true and predicted values for this cell, flatten across samples and time\n",
    "true_vals_B = y_test_denorm_B[:, lat_idx, lon_idx, 0].flatten()\n",
    "pred_vals_B = y_pred_test_denorm_B[:, lat_idx, lon_idx, 0].flatten()\n",
    "\n",
    "# Calculate RMSE\n",
    "rmse_B = np.sqrt(mean_squared_error(true_vals_B, pred_vals_B))\n",
    "\n",
    "# SI\n",
    "mean_obs_point_B = np.mean(true_vals_B)\n",
    "SI_B = rmse_B / mean_obs_point_B\n",
    "\n",
    "# R\n",
    "R_B, _ = pearsonr(true_vals_B, pred_vals_B)\n",
    "\n",
    "print(f\"Model B - Overall RMSE near Praia do Norte ({lat_idx}, {lon_idx}): {rmse_B:.4f}\")\n",
    "print(f\"Model B - Overall SI near Praia do Norte ({lat_idx}, {lon_idx}): {SI_B:.4f}\")\n",
    "print(f\"Model B - Overall R near Praia do Norte ({lat_idx}, {lon_idx}): {R_B:.4f}\")\n"
   ]
  },
  {
   "cell_type": "code",
   "execution_count": 378,
   "id": "60eefece-8510-4029-82fb-b8232f09897a",
   "metadata": {
    "editable": true,
    "slideshow": {
     "slide_type": ""
    },
    "tags": []
   },
   "outputs": [],
   "source": [
    "# Save results in text file\n",
    "with open(f\"results/event_2/metrics_run_{run_id}.txt\", \"a\") as f:\n",
    "    f.write(f\"Model B - Overall RMSE near Praia do Norte: {rmse_B:.4f}\\n\")\n",
    "    f.write(f\"Model B - Overall SI near Praia do Norte: {SI_B:.4f}\\n\")     \n",
    "    f.write(f\"Model B - Overall R near Praia do Norte: {R_B:.4f}\\n\")\n",
    "   "
   ]
  },
  {
   "cell_type": "markdown",
   "id": "a43c80e2-3b5c-4e1f-9e3f-8424f6324dd2",
   "metadata": {
    "editable": true,
    "slideshow": {
     "slide_type": ""
    },
    "tags": []
   },
   "source": [
    "### Create Scatter Plot"
   ]
  },
  {
   "cell_type": "code",
   "execution_count": 379,
   "id": "38639413-c724-40af-b597-67ab560e273b",
   "metadata": {},
   "outputs": [
    {
     "data": {
      "image/png": "[encoded data removed]",
      "text/plain": [
       "<Figure size 1200x600 with 2 Axes>"
      ]
     },
     "metadata": {},
     "output_type": "display_data"
    }
   ],
   "source": [
    "from sklearn.linear_model import LinearRegression\n",
    "\n",
    "true_vals = true_vals_B  # Use same ground truth for both models\n",
    "\n",
    "# Fit regression lines\n",
    "reg_A = LinearRegression().fit(true_vals.reshape(-1, 1), pred_vals_A)\n",
    "fit_A = reg_A.predict(true_vals.reshape(-1, 1))\n",
    "\n",
    "reg_B = LinearRegression().fit(true_vals.reshape(-1, 1), pred_vals_B)\n",
    "fit_B = reg_B.predict(true_vals.reshape(-1, 1))\n",
    "\n",
    "# Determine common axis limits\n",
    "min_val = min(true_vals.min(), pred_vals_A.min(), pred_vals_B.min())\n",
    "max_val = max(true_vals.max(), pred_vals_A.max(), pred_vals_B.max())\n",
    "\n",
    "# Create subplots without shared axes\n",
    "fig, axs = plt.subplots(1, 2, figsize=(12, 6))\n",
    "\n",
    "# Model A plot\n",
    "axs[0].scatter(true_vals, pred_vals_A, alpha=0.3, color='blue', label='Model A')\n",
    "axs[0].plot([min_val, max_val], [min_val, max_val], 'k--', label='1:1 line')\n",
    "axs[0].plot(true_vals, fit_A, color='red', label='Fitted line')\n",
    "axs[0].set_xlabel('CMEMS data (m)')\n",
    "axs[0].set_ylabel('Modelled data (m)')\n",
    "axs[0].set_xlim(min_val, max_val)\n",
    "axs[0].set_ylim(min_val, max_val)\n",
    "axs[0].set_aspect('equal', adjustable='box')\n",
    "axs[0].legend()\n",
    "\n",
    "# Model B plot\n",
    "axs[1].scatter(true_vals, pred_vals_B, alpha=0.3, color='green', label='Model B')\n",
    "axs[1].plot([min_val, max_val], [min_val, max_val], 'k--', label='1:1 line')\n",
    "axs[1].plot(true_vals, fit_B, color='red', label='Fitted line')\n",
    "axs[1].set_ylabel('Modelled data (m)')\n",
    "axs[1].set_xlabel('CMEMS data (m)')\n",
    "axs[1].set_xlim(min_val, max_val)\n",
    "axs[1].set_ylim(min_val, max_val)\n",
    "axs[1].set_aspect('equal', adjustable='box')\n",
    "axs[1].legend()\n",
    "\n",
    "# Layout\n",
    "plt.suptitle(f'{run_id}-Hour Forecast')\n",
    "plt.tight_layout(rect=[0, 0.03, 1, 0.95])\n",
    "plt.savefig(f\"results/event_2/scatter_side_by_side_{run_id}.png\", dpi=300)\n",
    "plt.show()\n"
   ]
  },
  {
   "cell_type": "code",
   "execution_count": null,
   "id": "85d2afa5-9db8-4c5a-8b42-b9bd60607e5a",
   "metadata": {},
   "outputs": [],
   "source": []
  }
 ],
 "metadata": {
  "kernelspec": {
   "display_name": "Python [conda env:base] *",
   "language": "python",
   "name": "conda-base-py"
  },
  "language_info": {
   "codemirror_mode": {
    "name": "ipython",
    "version": 3
   },
   "file_extension": ".py",
   "mimetype": "text/x-python",
   "name": "python",
   "nbconvert_exporter": "python",
   "pygments_lexer": "ipython3",
   "version": "3.12.3"
  }
 },
 "nbformat": 4,
 "nbformat_minor": 5
}
