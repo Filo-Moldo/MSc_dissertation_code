{
 "cells": [
  {
   "cell_type": "markdown",
   "id": "114697bb-82f1-43f2-aaa4-082771458d93",
   "metadata": {},
   "source": [
    "# Model A"
   ]
  },
  {
   "cell_type": "markdown",
   "id": "4c40d6f7-5bdc-4f69-867a-ddbeb513cbaf",
   "metadata": {
    "editable": true,
    "slideshow": {
     "slide_type": ""
    },
    "tags": []
   },
   "source": [
    "**Input data**\n",
    "\n",
    "CMEMS wave data (Significant Maximum Wave Height VCMX)\n",
    "\n",
    "Time: 01/01/2015 - 31/12/2021 (Dec-Mar)\n",
    "\n",
    "Training period: 01/12/2015 - 07/03/2020\n",
    "\n",
    "Testing period: 01/12/2020 - 31/03/2021\n",
    "\n",
    "Region: Nazaré (39.7°–39.5°N, −9.3° to −9.05°E)\n",
    "\n",
    "Sequence-to-one on a rolling window with three continuous time steps as input and one timestep as output over various forecasting lead times across 24 hours."
   ]
  },
  {
   "cell_type": "markdown",
   "id": "17b0cfe4-b469-4e7c-96d5-1e0e2ffa901b",
   "metadata": {},
   "source": [
    "## Set parameters"
   ]
  },
  {
   "cell_type": "code",
   "execution_count": 128,
   "id": "4712240d-e740-435e-90c5-4e97ccdab1bf",
   "metadata": {
    "editable": true,
    "slideshow": {
     "slide_type": ""
    },
    "tags": [
     "parameters"
    ]
   },
   "outputs": [],
   "source": [
    "forecast_steps = 24 # to be changed accordingly every model run"
   ]
  },
  {
   "cell_type": "code",
   "execution_count": 129,
   "id": "4e2fa68e-c2f4-42de-9f45-c8bfca167e97",
   "metadata": {},
   "outputs": [],
   "source": [
    "input_steps = 3 \n",
    "\n",
    "kernel_input1 = 3\n",
    "kernel_input2 = 3\n",
    "batch_input = 16\n",
    "regulizer = 0.0001\n",
    "run_id = forecast_steps  \n"
   ]
  },
  {
   "cell_type": "code",
   "execution_count": 130,
   "id": "2db53005-b3fe-452c-965b-66631f37ceba",
   "metadata": {},
   "outputs": [],
   "source": [
    "import os\n",
    "import xarray as xr\n",
    "import numpy as np\n",
    "import pandas as pd\n",
    "import matplotlib.pyplot as plt\n",
    "import matplotlib.dates as mdates\n",
    "from sklearn.metrics import mean_squared_error, r2_score, mean_absolute_error\n",
    "from scipy.stats import pearsonr\n",
    "from tensorflow.keras.models import Sequential\n",
    "from tensorflow.keras.layers import ConvLSTM2D, BatchNormalization, TimeDistributed, Conv2D, Input\n",
    "from tensorflow.keras.callbacks import EarlyStopping, ModelCheckpoint\n",
    "from tensorflow.keras.layers import LayerNormalization\n",
    "from tensorflow.keras.regularizers import l2\n",
    "from tensorflow.keras import regularizers\n"
   ]
  },
  {
   "cell_type": "markdown",
   "id": "03e8cd67-8dfc-4084-baa6-b50af363aedd",
   "metadata": {},
   "source": [
    "### STEP 1: Load and preprocess CMEMS wave data"
   ]
  },
  {
   "cell_type": "code",
   "execution_count": 131,
   "id": "c1774622-9fa1-46e1-a828-45d36a2cc3f7",
   "metadata": {},
   "outputs": [
    {
     "name": "stdout",
     "output_type": "stream",
     "text": [
      "(17472, 8, 9)\n"
     ]
    }
   ],
   "source": [
    "# Process data for period of interest over 6 years\n",
    "\n",
    "# Set working directory\n",
    "os.chdir('C:/Users/filot/OneDrive - University of Strathclyde/Diss')\n",
    "ds = xr.open_dataset(\"data/part9.nc\")\n",
    "\n",
    "# Define months of interest\n",
    "months_of_interest = [1, 2, 3, 12]\n",
    "\n",
    "# Filter dataset\n",
    "filtered_ds = ds.sel(time=ds['time'].dt.month.isin(months_of_interest))\n",
    "\n",
    "# Extract Hmax\n",
    "hs = filtered_ds['VCMX']  # (time, lat, lon)\n",
    "\n",
    "print(hs.shape)"
   ]
  },
  {
   "cell_type": "code",
   "execution_count": 132,
   "id": "c0a960b5-91b4-44d1-9c17-9c6d1ab1b035",
   "metadata": {},
   "outputs": [],
   "source": [
    "#fill nan with zeros for land data\n",
    "hs_filled = hs.fillna(0)\n",
    "\n",
    "# Normalize using Z-score normalization or standardization.\n",
    "mean_hs = hs_filled.mean().values\n",
    "std_hs = hs_filled.std().values\n",
    "hs_norm = (hs_filled - mean_hs) / std_hs\n",
    "\n",
    "# Convert to NumPy (transpose to time, lat, lon)\n",
    "data = hs_norm.transpose('time', 'latitude', 'longitude').values"
   ]
  },
  {
   "cell_type": "code",
   "execution_count": 133,
   "id": "43dc2e28-f16a-443b-994d-cc102bdb4cd3",
   "metadata": {},
   "outputs": [
    {
     "name": "stdout",
     "output_type": "stream",
     "text": [
      "(17472, 8, 9)\n"
     ]
    }
   ],
   "source": [
    "print(data.shape)"
   ]
  },
  {
   "cell_type": "markdown",
   "id": "6cfbf6ff-29f3-49ea-9ec0-26612c8d4c51",
   "metadata": {},
   "source": [
    "### STEP 2: Create sequence-to-one training samples"
   ]
  },
  {
   "cell_type": "code",
   "execution_count": 134,
   "id": "e642fcda-e4e9-4c97-ad20-19a0cefeb973",
   "metadata": {},
   "outputs": [
    {
     "name": "stdout",
     "output_type": "stream",
     "text": [
      "X: (17446, 3, 8, 9, 1) y: (17446, 8, 9, 1)\n"
     ]
    }
   ],
   "source": [
    "def create_forecast_at_step_dataset(data, input_steps, forecast_steps, stride=1):\n",
    "    X, y = [], []\n",
    "    for t in range(0, len(data) - input_steps - forecast_steps + 1, stride):\n",
    "        X.append(data[t : t + input_steps])  # 3 past time steps\n",
    "        y.append(data[t + input_steps + forecast_steps - 1])  # specific future step\n",
    "    X = np.array(X)[..., np.newaxis]  # Add channel dim\n",
    "    y = np.array(y)[..., np.newaxis]  # Add channel dim\n",
    "    return X, y\n",
    "    \n",
    "X, y = create_forecast_at_step_dataset(data, input_steps=3, forecast_steps=forecast_steps)\n",
    "print(\"X:\", X.shape, \"y:\", y.shape)"
   ]
  },
  {
   "cell_type": "markdown",
   "id": "b3acb709-5d04-400b-9095-8902754d3bd3",
   "metadata": {},
   "source": [
    "### STEP 3: Split into training and test sets"
   ]
  },
  {
   "cell_type": "code",
   "execution_count": 135,
   "id": "49db3cc5-0597-474c-8f7f-ad26921eaa4e",
   "metadata": {
    "editable": true,
    "slideshow": {
     "slide_type": ""
    },
    "tags": []
   },
   "outputs": [],
   "source": [
    "split = int(len(X) * 0.8)\n",
    "X_train, X_test = X[:split], X[split:]\n",
    "y_train, y_test = y[:split], y[split:]"
   ]
  },
  {
   "cell_type": "markdown",
   "id": "923411c0-8a63-4eef-9ae6-627a7162764f",
   "metadata": {},
   "source": [
    "### STEP 4: Define Conv-LSTM model"
   ]
  },
  {
   "cell_type": "code",
   "execution_count": 136,
   "id": "4a2cdd2c-422e-437e-a7d8-77e3c90c0458",
   "metadata": {
    "scrolled": true
   },
   "outputs": [
    {
     "data": {
      "text/html": [
       "<pre style=\"white-space:pre;overflow-x:auto;line-height:normal;font-family:Menlo,'DejaVu Sans Mono',consolas,'Courier New',monospace\"><span style=\"font-weight: bold\">Model: \"sequential_8\"</span>\n",
       "</pre>\n"
      ],
      "text/plain": [
       "\u001b[1mModel: \"sequential_8\"\u001b[0m\n"
      ]
     },
     "metadata": {},
     "output_type": "display_data"
    },
    {
     "data": {
      "text/html": [
       "<pre style=\"white-space:pre;overflow-x:auto;line-height:normal;font-family:Menlo,'DejaVu Sans Mono',consolas,'Courier New',monospace\">┏━━━━━━━━━━━━━━━━━━━━━━━━━━━━━━━━━━━━━━┳━━━━━━━━━━━━━━━━━━━━━━━━━━━━━┳━━━━━━━━━━━━━━━━━┓\n",
       "┃<span style=\"font-weight: bold\"> Layer (type)                         </span>┃<span style=\"font-weight: bold\"> Output Shape                </span>┃<span style=\"font-weight: bold\">         Param # </span>┃\n",
       "┡━━━━━━━━━━━━━━━━━━━━━━━━━━━━━━━━━━━━━━╇━━━━━━━━━━━━━━━━━━━━━━━━━━━━━╇━━━━━━━━━━━━━━━━━┩\n",
       "│ conv_lstm2d_34 (<span style=\"color: #0087ff; text-decoration-color: #0087ff\">ConvLSTM2D</span>)          │ (<span style=\"color: #00d7ff; text-decoration-color: #00d7ff\">None</span>, <span style=\"color: #00af00; text-decoration-color: #00af00\">3</span>, <span style=\"color: #00af00; text-decoration-color: #00af00\">8</span>, <span style=\"color: #00af00; text-decoration-color: #00af00\">9</span>, <span style=\"color: #00af00; text-decoration-color: #00af00\">64</span>)         │         <span style=\"color: #00af00; text-decoration-color: #00af00\">150,016</span> │\n",
       "├──────────────────────────────────────┼─────────────────────────────┼─────────────────┤\n",
       "│ layer_normalization_34               │ (<span style=\"color: #00d7ff; text-decoration-color: #00d7ff\">None</span>, <span style=\"color: #00af00; text-decoration-color: #00af00\">3</span>, <span style=\"color: #00af00; text-decoration-color: #00af00\">8</span>, <span style=\"color: #00af00; text-decoration-color: #00af00\">9</span>, <span style=\"color: #00af00; text-decoration-color: #00af00\">64</span>)         │             <span style=\"color: #00af00; text-decoration-color: #00af00\">128</span> │\n",
       "│ (<span style=\"color: #0087ff; text-decoration-color: #0087ff\">LayerNormalization</span>)                 │                             │                 │\n",
       "├──────────────────────────────────────┼─────────────────────────────┼─────────────────┤\n",
       "│ conv_lstm2d_35 (<span style=\"color: #0087ff; text-decoration-color: #0087ff\">ConvLSTM2D</span>)          │ (<span style=\"color: #00d7ff; text-decoration-color: #00d7ff\">None</span>, <span style=\"color: #00af00; text-decoration-color: #00af00\">3</span>, <span style=\"color: #00af00; text-decoration-color: #00af00\">8</span>, <span style=\"color: #00af00; text-decoration-color: #00af00\">9</span>, <span style=\"color: #00af00; text-decoration-color: #00af00\">32</span>)         │         <span style=\"color: #00af00; text-decoration-color: #00af00\">110,720</span> │\n",
       "├──────────────────────────────────────┼─────────────────────────────┼─────────────────┤\n",
       "│ layer_normalization_35               │ (<span style=\"color: #00d7ff; text-decoration-color: #00d7ff\">None</span>, <span style=\"color: #00af00; text-decoration-color: #00af00\">3</span>, <span style=\"color: #00af00; text-decoration-color: #00af00\">8</span>, <span style=\"color: #00af00; text-decoration-color: #00af00\">9</span>, <span style=\"color: #00af00; text-decoration-color: #00af00\">32</span>)         │              <span style=\"color: #00af00; text-decoration-color: #00af00\">64</span> │\n",
       "│ (<span style=\"color: #0087ff; text-decoration-color: #0087ff\">LayerNormalization</span>)                 │                             │                 │\n",
       "├──────────────────────────────────────┼─────────────────────────────┼─────────────────┤\n",
       "│ conv_lstm2d_36 (<span style=\"color: #0087ff; text-decoration-color: #0087ff\">ConvLSTM2D</span>)          │ (<span style=\"color: #00d7ff; text-decoration-color: #00d7ff\">None</span>, <span style=\"color: #00af00; text-decoration-color: #00af00\">3</span>, <span style=\"color: #00af00; text-decoration-color: #00af00\">8</span>, <span style=\"color: #00af00; text-decoration-color: #00af00\">9</span>, <span style=\"color: #00af00; text-decoration-color: #00af00\">16</span>)         │          <span style=\"color: #00af00; text-decoration-color: #00af00\">27,712</span> │\n",
       "├──────────────────────────────────────┼─────────────────────────────┼─────────────────┤\n",
       "│ layer_normalization_36               │ (<span style=\"color: #00d7ff; text-decoration-color: #00d7ff\">None</span>, <span style=\"color: #00af00; text-decoration-color: #00af00\">3</span>, <span style=\"color: #00af00; text-decoration-color: #00af00\">8</span>, <span style=\"color: #00af00; text-decoration-color: #00af00\">9</span>, <span style=\"color: #00af00; text-decoration-color: #00af00\">16</span>)         │              <span style=\"color: #00af00; text-decoration-color: #00af00\">32</span> │\n",
       "│ (<span style=\"color: #0087ff; text-decoration-color: #0087ff\">LayerNormalization</span>)                 │                             │                 │\n",
       "├──────────────────────────────────────┼─────────────────────────────┼─────────────────┤\n",
       "│ conv_lstm2d_37 (<span style=\"color: #0087ff; text-decoration-color: #0087ff\">ConvLSTM2D</span>)          │ (<span style=\"color: #00d7ff; text-decoration-color: #00d7ff\">None</span>, <span style=\"color: #00af00; text-decoration-color: #00af00\">8</span>, <span style=\"color: #00af00; text-decoration-color: #00af00\">9</span>, <span style=\"color: #00af00; text-decoration-color: #00af00\">16</span>)            │          <span style=\"color: #00af00; text-decoration-color: #00af00\">18,496</span> │\n",
       "├──────────────────────────────────────┼─────────────────────────────┼─────────────────┤\n",
       "│ layer_normalization_37               │ (<span style=\"color: #00d7ff; text-decoration-color: #00d7ff\">None</span>, <span style=\"color: #00af00; text-decoration-color: #00af00\">8</span>, <span style=\"color: #00af00; text-decoration-color: #00af00\">9</span>, <span style=\"color: #00af00; text-decoration-color: #00af00\">16</span>)            │              <span style=\"color: #00af00; text-decoration-color: #00af00\">32</span> │\n",
       "│ (<span style=\"color: #0087ff; text-decoration-color: #0087ff\">LayerNormalization</span>)                 │                             │                 │\n",
       "├──────────────────────────────────────┼─────────────────────────────┼─────────────────┤\n",
       "│ conv2d_8 (<span style=\"color: #0087ff; text-decoration-color: #0087ff\">Conv2D</span>)                    │ (<span style=\"color: #00d7ff; text-decoration-color: #00d7ff\">None</span>, <span style=\"color: #00af00; text-decoration-color: #00af00\">8</span>, <span style=\"color: #00af00; text-decoration-color: #00af00\">9</span>, <span style=\"color: #00af00; text-decoration-color: #00af00\">1</span>)             │              <span style=\"color: #00af00; text-decoration-color: #00af00\">17</span> │\n",
       "└──────────────────────────────────────┴─────────────────────────────┴─────────────────┘\n",
       "</pre>\n"
      ],
      "text/plain": [
       "┏━━━━━━━━━━━━━━━━━━━━━━━━━━━━━━━━━━━━━━┳━━━━━━━━━━━━━━━━━━━━━━━━━━━━━┳━━━━━━━━━━━━━━━━━┓\n",
       "┃\u001b[1m \u001b[0m\u001b[1mLayer (type)                        \u001b[0m\u001b[1m \u001b[0m┃\u001b[1m \u001b[0m\u001b[1mOutput Shape               \u001b[0m\u001b[1m \u001b[0m┃\u001b[1m \u001b[0m\u001b[1m        Param #\u001b[0m\u001b[1m \u001b[0m┃\n",
       "┡━━━━━━━━━━━━━━━━━━━━━━━━━━━━━━━━━━━━━━╇━━━━━━━━━━━━━━━━━━━━━━━━━━━━━╇━━━━━━━━━━━━━━━━━┩\n",
       "│ conv_lstm2d_34 (\u001b[38;5;33mConvLSTM2D\u001b[0m)          │ (\u001b[38;5;45mNone\u001b[0m, \u001b[38;5;34m3\u001b[0m, \u001b[38;5;34m8\u001b[0m, \u001b[38;5;34m9\u001b[0m, \u001b[38;5;34m64\u001b[0m)         │         \u001b[38;5;34m150,016\u001b[0m │\n",
       "├──────────────────────────────────────┼─────────────────────────────┼─────────────────┤\n",
       "│ layer_normalization_34               │ (\u001b[38;5;45mNone\u001b[0m, \u001b[38;5;34m3\u001b[0m, \u001b[38;5;34m8\u001b[0m, \u001b[38;5;34m9\u001b[0m, \u001b[38;5;34m64\u001b[0m)         │             \u001b[38;5;34m128\u001b[0m │\n",
       "│ (\u001b[38;5;33mLayerNormalization\u001b[0m)                 │                             │                 │\n",
       "├──────────────────────────────────────┼─────────────────────────────┼─────────────────┤\n",
       "│ conv_lstm2d_35 (\u001b[38;5;33mConvLSTM2D\u001b[0m)          │ (\u001b[38;5;45mNone\u001b[0m, \u001b[38;5;34m3\u001b[0m, \u001b[38;5;34m8\u001b[0m, \u001b[38;5;34m9\u001b[0m, \u001b[38;5;34m32\u001b[0m)         │         \u001b[38;5;34m110,720\u001b[0m │\n",
       "├──────────────────────────────────────┼─────────────────────────────┼─────────────────┤\n",
       "│ layer_normalization_35               │ (\u001b[38;5;45mNone\u001b[0m, \u001b[38;5;34m3\u001b[0m, \u001b[38;5;34m8\u001b[0m, \u001b[38;5;34m9\u001b[0m, \u001b[38;5;34m32\u001b[0m)         │              \u001b[38;5;34m64\u001b[0m │\n",
       "│ (\u001b[38;5;33mLayerNormalization\u001b[0m)                 │                             │                 │\n",
       "├──────────────────────────────────────┼─────────────────────────────┼─────────────────┤\n",
       "│ conv_lstm2d_36 (\u001b[38;5;33mConvLSTM2D\u001b[0m)          │ (\u001b[38;5;45mNone\u001b[0m, \u001b[38;5;34m3\u001b[0m, \u001b[38;5;34m8\u001b[0m, \u001b[38;5;34m9\u001b[0m, \u001b[38;5;34m16\u001b[0m)         │          \u001b[38;5;34m27,712\u001b[0m │\n",
       "├──────────────────────────────────────┼─────────────────────────────┼─────────────────┤\n",
       "│ layer_normalization_36               │ (\u001b[38;5;45mNone\u001b[0m, \u001b[38;5;34m3\u001b[0m, \u001b[38;5;34m8\u001b[0m, \u001b[38;5;34m9\u001b[0m, \u001b[38;5;34m16\u001b[0m)         │              \u001b[38;5;34m32\u001b[0m │\n",
       "│ (\u001b[38;5;33mLayerNormalization\u001b[0m)                 │                             │                 │\n",
       "├──────────────────────────────────────┼─────────────────────────────┼─────────────────┤\n",
       "│ conv_lstm2d_37 (\u001b[38;5;33mConvLSTM2D\u001b[0m)          │ (\u001b[38;5;45mNone\u001b[0m, \u001b[38;5;34m8\u001b[0m, \u001b[38;5;34m9\u001b[0m, \u001b[38;5;34m16\u001b[0m)            │          \u001b[38;5;34m18,496\u001b[0m │\n",
       "├──────────────────────────────────────┼─────────────────────────────┼─────────────────┤\n",
       "│ layer_normalization_37               │ (\u001b[38;5;45mNone\u001b[0m, \u001b[38;5;34m8\u001b[0m, \u001b[38;5;34m9\u001b[0m, \u001b[38;5;34m16\u001b[0m)            │              \u001b[38;5;34m32\u001b[0m │\n",
       "│ (\u001b[38;5;33mLayerNormalization\u001b[0m)                 │                             │                 │\n",
       "├──────────────────────────────────────┼─────────────────────────────┼─────────────────┤\n",
       "│ conv2d_8 (\u001b[38;5;33mConv2D\u001b[0m)                    │ (\u001b[38;5;45mNone\u001b[0m, \u001b[38;5;34m8\u001b[0m, \u001b[38;5;34m9\u001b[0m, \u001b[38;5;34m1\u001b[0m)             │              \u001b[38;5;34m17\u001b[0m │\n",
       "└──────────────────────────────────────┴─────────────────────────────┴─────────────────┘\n"
      ]
     },
     "metadata": {},
     "output_type": "display_data"
    },
    {
     "data": {
      "text/html": [
       "<pre style=\"white-space:pre;overflow-x:auto;line-height:normal;font-family:Menlo,'DejaVu Sans Mono',consolas,'Courier New',monospace\"><span style=\"font-weight: bold\"> Total params: </span><span style=\"color: #00af00; text-decoration-color: #00af00\">307,217</span> (1.17 MB)\n",
       "</pre>\n"
      ],
      "text/plain": [
       "\u001b[1m Total params: \u001b[0m\u001b[38;5;34m307,217\u001b[0m (1.17 MB)\n"
      ]
     },
     "metadata": {},
     "output_type": "display_data"
    },
    {
     "data": {
      "text/html": [
       "<pre style=\"white-space:pre;overflow-x:auto;line-height:normal;font-family:Menlo,'DejaVu Sans Mono',consolas,'Courier New',monospace\"><span style=\"font-weight: bold\"> Trainable params: </span><span style=\"color: #00af00; text-decoration-color: #00af00\">307,217</span> (1.17 MB)\n",
       "</pre>\n"
      ],
      "text/plain": [
       "\u001b[1m Trainable params: \u001b[0m\u001b[38;5;34m307,217\u001b[0m (1.17 MB)\n"
      ]
     },
     "metadata": {},
     "output_type": "display_data"
    },
    {
     "data": {
      "text/html": [
       "<pre style=\"white-space:pre;overflow-x:auto;line-height:normal;font-family:Menlo,'DejaVu Sans Mono',consolas,'Courier New',monospace\"><span style=\"font-weight: bold\"> Non-trainable params: </span><span style=\"color: #00af00; text-decoration-color: #00af00\">0</span> (0.00 B)\n",
       "</pre>\n"
      ],
      "text/plain": [
       "\u001b[1m Non-trainable params: \u001b[0m\u001b[38;5;34m0\u001b[0m (0.00 B)\n"
      ]
     },
     "metadata": {},
     "output_type": "display_data"
    }
   ],
   "source": [
    "model = Sequential()\n",
    "\n",
    "model.add(Input(shape=(input_steps, 8, 9, 1)))  \n",
    "\n",
    "# Layer 1\n",
    "model.add(ConvLSTM2D(\n",
    "    filters=64,\n",
    "    kernel_size=(kernel_input1, kernel_input2),\n",
    "    padding='same',\n",
    "    return_sequences=True,\n",
    "    kernel_regularizer=regularizers.l2(regulizer)\n",
    "))\n",
    "model.add(LayerNormalization())\n",
    "\n",
    "# Layer 2\n",
    "model.add(ConvLSTM2D(\n",
    "    filters=32,\n",
    "    kernel_size=(kernel_input1, kernel_input2),\n",
    "    padding='same',\n",
    "    return_sequences=True,\n",
    "    kernel_regularizer=regularizers.l2(regulizer)\n",
    "))\n",
    "model.add(LayerNormalization())\n",
    "\n",
    "# Layer 3\n",
    "model.add(ConvLSTM2D(\n",
    "    filters=16,\n",
    "    kernel_size=(kernel_input1, kernel_input2),\n",
    "    padding='same',\n",
    "    return_sequences=True,\n",
    "    kernel_regularizer=regularizers.l2(regulizer)\n",
    "))\n",
    "model.add(LayerNormalization())\n",
    "\n",
    "# Layer 4\n",
    "model.add(ConvLSTM2D(\n",
    "    filters=16,\n",
    "    kernel_size=(kernel_input1, kernel_input2),\n",
    "    padding='same',\n",
    "    return_sequences=False,\n",
    "    kernel_regularizer=regularizers.l2(regulizer)\n",
    "))\n",
    "model.add(LayerNormalization())\n",
    "\n",
    "# Final Output Layer (Paper uses Conv2D per time step)\n",
    "model.add(Conv2D(\n",
    "    filters=1,\n",
    "    kernel_size=(1, 1),\n",
    "    activation='linear',\n",
    "    padding='same',\n",
    "    kernel_regularizer=regularizers.l2(regulizer)\n",
    "))\n",
    "\n",
    "\n",
    "model.compile(optimizer='adam', loss='mse', metrics=['mae'])\n",
    "model.summary()"
   ]
  },
  {
   "cell_type": "markdown",
   "id": "d9db1a97-680a-47b6-9346-49dd26b022ca",
   "metadata": {},
   "source": [
    "### STEP 5: Train the model"
   ]
  },
  {
   "cell_type": "code",
   "execution_count": 137,
   "id": "8f68d459-d586-4d6b-a940-e3f1c7bc0cc1",
   "metadata": {
    "editable": true,
    "slideshow": {
     "slide_type": ""
    },
    "tags": []
   },
   "outputs": [
    {
     "name": "stdout",
     "output_type": "stream",
     "text": [
      "Epoch 1/40\n",
      "\u001b[1m698/698\u001b[0m \u001b[32m━━━━━━━━━━━━━━━━━━━━\u001b[0m\u001b[37m\u001b[0m \u001b[1m54s\u001b[0m 57ms/step - loss: 0.4535 - mae: 0.4752 - val_loss: 0.3724 - val_mae: 0.4124\n",
      "Epoch 2/40\n",
      "\u001b[1m698/698\u001b[0m \u001b[32m━━━━━━━━━━━━━━━━━━━━\u001b[0m\u001b[37m\u001b[0m \u001b[1m38s\u001b[0m 54ms/step - loss: 0.3621 - mae: 0.4171 - val_loss: 0.3001 - val_mae: 0.3847\n",
      "Epoch 3/40\n",
      "\u001b[1m698/698\u001b[0m \u001b[32m━━━━━━━━━━━━━━━━━━━━\u001b[0m\u001b[37m\u001b[0m \u001b[1m38s\u001b[0m 54ms/step - loss: 0.3409 - mae: 0.4022 - val_loss: 0.3050 - val_mae: 0.3996\n",
      "Epoch 4/40\n",
      "\u001b[1m698/698\u001b[0m \u001b[32m━━━━━━━━━━━━━━━━━━━━\u001b[0m\u001b[37m\u001b[0m \u001b[1m43s\u001b[0m 61ms/step - loss: 0.3207 - mae: 0.3889 - val_loss: 0.3327 - val_mae: 0.3949\n",
      "Epoch 5/40\n",
      "\u001b[1m698/698\u001b[0m \u001b[32m━━━━━━━━━━━━━━━━━━━━\u001b[0m\u001b[37m\u001b[0m \u001b[1m41s\u001b[0m 59ms/step - loss: 0.3257 - mae: 0.3888 - val_loss: 0.3118 - val_mae: 0.4118\n",
      "Epoch 6/40\n",
      "\u001b[1m698/698\u001b[0m \u001b[32m━━━━━━━━━━━━━━━━━━━━\u001b[0m\u001b[37m\u001b[0m \u001b[1m41s\u001b[0m 59ms/step - loss: 0.3240 - mae: 0.3918 - val_loss: 0.3114 - val_mae: 0.4032\n",
      "Epoch 7/40\n",
      "\u001b[1m698/698\u001b[0m \u001b[32m━━━━━━━━━━━━━━━━━━━━\u001b[0m\u001b[37m\u001b[0m \u001b[1m41s\u001b[0m 59ms/step - loss: 0.3183 - mae: 0.3869 - val_loss: 0.2972 - val_mae: 0.3775\n",
      "Epoch 8/40\n",
      "\u001b[1m698/698\u001b[0m \u001b[32m━━━━━━━━━━━━━━━━━━━━\u001b[0m\u001b[37m\u001b[0m \u001b[1m49s\u001b[0m 70ms/step - loss: 0.3190 - mae: 0.3882 - val_loss: 0.3060 - val_mae: 0.3973\n",
      "Epoch 9/40\n",
      "\u001b[1m698/698\u001b[0m \u001b[32m━━━━━━━━━━━━━━━━━━━━\u001b[0m\u001b[37m\u001b[0m \u001b[1m66s\u001b[0m 94ms/step - loss: 0.3130 - mae: 0.3841 - val_loss: 0.2871 - val_mae: 0.3989\n",
      "Epoch 10/40\n",
      "\u001b[1m698/698\u001b[0m \u001b[32m━━━━━━━━━━━━━━━━━━━━\u001b[0m\u001b[37m\u001b[0m \u001b[1m68s\u001b[0m 97ms/step - loss: 0.3176 - mae: 0.3880 - val_loss: 0.2797 - val_mae: 0.3810\n",
      "Epoch 11/40\n",
      "\u001b[1m698/698\u001b[0m \u001b[32m━━━━━━━━━━━━━━━━━━━━\u001b[0m\u001b[37m\u001b[0m \u001b[1m66s\u001b[0m 94ms/step - loss: 0.3137 - mae: 0.3817 - val_loss: 0.2991 - val_mae: 0.3784\n",
      "Epoch 12/40\n",
      "\u001b[1m698/698\u001b[0m \u001b[32m━━━━━━━━━━━━━━━━━━━━\u001b[0m\u001b[37m\u001b[0m \u001b[1m73s\u001b[0m 104ms/step - loss: 0.3128 - mae: 0.3833 - val_loss: 0.2845 - val_mae: 0.3710\n",
      "Epoch 13/40\n",
      "\u001b[1m698/698\u001b[0m \u001b[32m━━━━━━━━━━━━━━━━━━━━\u001b[0m\u001b[37m\u001b[0m \u001b[1m73s\u001b[0m 104ms/step - loss: 0.2995 - mae: 0.3752 - val_loss: 0.2803 - val_mae: 0.3720\n",
      "Epoch 14/40\n",
      "\u001b[1m698/698\u001b[0m \u001b[32m━━━━━━━━━━━━━━━━━━━━\u001b[0m\u001b[37m\u001b[0m \u001b[1m73s\u001b[0m 105ms/step - loss: 0.3014 - mae: 0.3764 - val_loss: 0.2814 - val_mae: 0.3798\n",
      "Epoch 15/40\n",
      "\u001b[1m698/698\u001b[0m \u001b[32m━━━━━━━━━━━━━━━━━━━━\u001b[0m\u001b[37m\u001b[0m \u001b[1m72s\u001b[0m 103ms/step - loss: 0.3068 - mae: 0.3793 - val_loss: 0.2764 - val_mae: 0.3861\n",
      "Epoch 16/40\n",
      "\u001b[1m698/698\u001b[0m \u001b[32m━━━━━━━━━━━━━━━━━━━━\u001b[0m\u001b[37m\u001b[0m \u001b[1m72s\u001b[0m 104ms/step - loss: 0.2970 - mae: 0.3746 - val_loss: 0.2849 - val_mae: 0.3888\n",
      "Epoch 17/40\n",
      "\u001b[1m698/698\u001b[0m \u001b[32m━━━━━━━━━━━━━━━━━━━━\u001b[0m\u001b[37m\u001b[0m \u001b[1m72s\u001b[0m 103ms/step - loss: 0.3055 - mae: 0.3787 - val_loss: 0.2888 - val_mae: 0.3923\n",
      "Epoch 18/40\n",
      "\u001b[1m698/698\u001b[0m \u001b[32m━━━━━━━━━━━━━━━━━━━━\u001b[0m\u001b[37m\u001b[0m \u001b[1m64s\u001b[0m 92ms/step - loss: 0.2815 - mae: 0.3669 - val_loss: 0.2717 - val_mae: 0.3691\n",
      "Epoch 19/40\n",
      "\u001b[1m698/698\u001b[0m \u001b[32m━━━━━━━━━━━━━━━━━━━━\u001b[0m\u001b[37m\u001b[0m \u001b[1m91s\u001b[0m 105ms/step - loss: 0.2947 - mae: 0.3704 - val_loss: 0.3031 - val_mae: 0.3801\n",
      "Epoch 20/40\n",
      "\u001b[1m698/698\u001b[0m \u001b[32m━━━━━━━━━━━━━━━━━━━━\u001b[0m\u001b[37m\u001b[0m \u001b[1m73s\u001b[0m 105ms/step - loss: 0.2887 - mae: 0.3671 - val_loss: 0.2807 - val_mae: 0.3736\n",
      "Epoch 21/40\n",
      "\u001b[1m698/698\u001b[0m \u001b[32m━━━━━━━━━━━━━━━━━━━━\u001b[0m\u001b[37m\u001b[0m \u001b[1m74s\u001b[0m 105ms/step - loss: 0.2997 - mae: 0.3708 - val_loss: 0.2706 - val_mae: 0.3717\n",
      "Epoch 22/40\n",
      "\u001b[1m698/698\u001b[0m \u001b[32m━━━━━━━━━━━━━━━━━━━━\u001b[0m\u001b[37m\u001b[0m \u001b[1m74s\u001b[0m 105ms/step - loss: 0.2892 - mae: 0.3679 - val_loss: 0.2773 - val_mae: 0.3796\n",
      "Epoch 23/40\n",
      "\u001b[1m698/698\u001b[0m \u001b[32m━━━━━━━━━━━━━━━━━━━━\u001b[0m\u001b[37m\u001b[0m \u001b[1m73s\u001b[0m 104ms/step - loss: 0.3007 - mae: 0.3729 - val_loss: 0.2755 - val_mae: 0.3695\n",
      "Epoch 24/40\n",
      "\u001b[1m698/698\u001b[0m \u001b[32m━━━━━━━━━━━━━━━━━━━━\u001b[0m\u001b[37m\u001b[0m \u001b[1m66s\u001b[0m 81ms/step - loss: 0.2978 - mae: 0.3703 - val_loss: 0.2703 - val_mae: 0.3684\n",
      "Epoch 25/40\n",
      "\u001b[1m698/698\u001b[0m \u001b[32m━━━━━━━━━━━━━━━━━━━━\u001b[0m\u001b[37m\u001b[0m \u001b[1m73s\u001b[0m 105ms/step - loss: 0.2883 - mae: 0.3696 - val_loss: 0.2662 - val_mae: 0.3686\n",
      "Epoch 26/40\n",
      "\u001b[1m698/698\u001b[0m \u001b[32m━━━━━━━━━━━━━━━━━━━━\u001b[0m\u001b[37m\u001b[0m \u001b[1m82s\u001b[0m 104ms/step - loss: 0.2950 - mae: 0.3709 - val_loss: 0.2773 - val_mae: 0.3662\n",
      "Epoch 27/40\n",
      "\u001b[1m698/698\u001b[0m \u001b[32m━━━━━━━━━━━━━━━━━━━━\u001b[0m\u001b[37m\u001b[0m \u001b[1m83s\u001b[0m 106ms/step - loss: 0.2934 - mae: 0.3702 - val_loss: 0.2687 - val_mae: 0.3609\n",
      "Epoch 28/40\n",
      "\u001b[1m698/698\u001b[0m \u001b[32m━━━━━━━━━━━━━━━━━━━━\u001b[0m\u001b[37m\u001b[0m \u001b[1m78s\u001b[0m 111ms/step - loss: 0.2902 - mae: 0.3689 - val_loss: 0.2777 - val_mae: 0.3771\n",
      "Epoch 29/40\n",
      "\u001b[1m698/698\u001b[0m \u001b[32m━━━━━━━━━━━━━━━━━━━━\u001b[0m\u001b[37m\u001b[0m \u001b[1m74s\u001b[0m 106ms/step - loss: 0.2815 - mae: 0.3627 - val_loss: 0.2924 - val_mae: 0.3894\n",
      "Epoch 30/40\n",
      "\u001b[1m698/698\u001b[0m \u001b[32m━━━━━━━━━━━━━━━━━━━━\u001b[0m\u001b[37m\u001b[0m \u001b[1m82s\u001b[0m 105ms/step - loss: 0.2861 - mae: 0.3671 - val_loss: 0.2660 - val_mae: 0.3660\n",
      "Epoch 31/40\n",
      "\u001b[1m698/698\u001b[0m \u001b[32m━━━━━━━━━━━━━━━━━━━━\u001b[0m\u001b[37m\u001b[0m \u001b[1m68s\u001b[0m 85ms/step - loss: 0.2849 - mae: 0.3635 - val_loss: 0.2842 - val_mae: 0.3812\n",
      "Epoch 32/40\n",
      "\u001b[1m698/698\u001b[0m \u001b[32m━━━━━━━━━━━━━━━━━━━━\u001b[0m\u001b[37m\u001b[0m \u001b[1m77s\u001b[0m 111ms/step - loss: 0.2932 - mae: 0.3713 - val_loss: 0.2656 - val_mae: 0.3675\n",
      "Epoch 33/40\n",
      "\u001b[1m698/698\u001b[0m \u001b[32m━━━━━━━━━━━━━━━━━━━━\u001b[0m\u001b[37m\u001b[0m \u001b[1m74s\u001b[0m 106ms/step - loss: 0.2939 - mae: 0.3698 - val_loss: 0.2818 - val_mae: 0.3922\n",
      "Epoch 34/40\n",
      "\u001b[1m698/698\u001b[0m \u001b[32m━━━━━━━━━━━━━━━━━━━━\u001b[0m\u001b[37m\u001b[0m \u001b[1m74s\u001b[0m 106ms/step - loss: 0.2842 - mae: 0.3604 - val_loss: 0.2708 - val_mae: 0.3712\n",
      "Epoch 35/40\n",
      "\u001b[1m698/698\u001b[0m \u001b[32m━━━━━━━━━━━━━━━━━━━━\u001b[0m\u001b[37m\u001b[0m \u001b[1m75s\u001b[0m 107ms/step - loss: 0.2884 - mae: 0.3667 - val_loss: 0.2596 - val_mae: 0.3660\n",
      "Epoch 36/40\n",
      "\u001b[1m698/698\u001b[0m \u001b[32m━━━━━━━━━━━━━━━━━━━━\u001b[0m\u001b[37m\u001b[0m \u001b[1m65s\u001b[0m 94ms/step - loss: 0.2879 - mae: 0.3680 - val_loss: 0.2612 - val_mae: 0.3582\n",
      "Epoch 37/40\n",
      "\u001b[1m698/698\u001b[0m \u001b[32m━━━━━━━━━━━━━━━━━━━━\u001b[0m\u001b[37m\u001b[0m \u001b[1m73s\u001b[0m 105ms/step - loss: 0.2812 - mae: 0.3606 - val_loss: 0.2699 - val_mae: 0.3690\n",
      "Epoch 38/40\n",
      "\u001b[1m698/698\u001b[0m \u001b[32m━━━━━━━━━━━━━━━━━━━━\u001b[0m\u001b[37m\u001b[0m \u001b[1m75s\u001b[0m 107ms/step - loss: 0.2779 - mae: 0.3584 - val_loss: 0.2796 - val_mae: 0.3784\n",
      "Epoch 39/40\n",
      "\u001b[1m698/698\u001b[0m \u001b[32m━━━━━━━━━━━━━━━━━━━━\u001b[0m\u001b[37m\u001b[0m \u001b[1m74s\u001b[0m 106ms/step - loss: 0.2854 - mae: 0.3643 - val_loss: 0.2718 - val_mae: 0.3655\n",
      "Epoch 40/40\n",
      "\u001b[1m698/698\u001b[0m \u001b[32m━━━━━━━━━━━━━━━━━━━━\u001b[0m\u001b[37m\u001b[0m \u001b[1m74s\u001b[0m 106ms/step - loss: 0.2844 - mae: 0.3635 - val_loss: 0.2806 - val_mae: 0.3698\n"
     ]
    }
   ],
   "source": [
    "\n",
    "early_stop = EarlyStopping(patience=10, restore_best_weights=True)\n",
    "\n",
    "history = model.fit(\n",
    "    X_train, y_train,\n",
    "    epochs=40,\n",
    "    batch_size=batch_input,\n",
    "    validation_split=0.2,\n",
    "    callbacks=[early_stop]\n",
    ")\n"
   ]
  },
  {
   "cell_type": "code",
   "execution_count": 138,
   "id": "4d027eda-7192-4567-beaa-bc8f82189684",
   "metadata": {},
   "outputs": [],
   "source": [
    "model.save(f'results/model_A/saved_model/{run_id}_model.keras')\n"
   ]
  },
  {
   "cell_type": "markdown",
   "id": "4bfebf55-c98e-4c98-abbf-212b48dcbef1",
   "metadata": {},
   "source": [
    "## Step 6: Evaluating results"
   ]
  },
  {
   "cell_type": "markdown",
   "id": "1c26a2e1-3cd6-4d90-8f8b-ee909ba09701",
   "metadata": {},
   "source": [
    "### Evaluating training performace"
   ]
  },
  {
   "cell_type": "code",
   "execution_count": 139,
   "id": "e3db2c91-73a4-4a91-bc17-474505b3e27e",
   "metadata": {},
   "outputs": [
    {
     "data": {
      "image/png": "[encoded data removed]",
      "text/plain": [
       "<Figure size 640x480 with 1 Axes>"
      ]
     },
     "metadata": {},
     "output_type": "display_data"
    }
   ],
   "source": [
    "# Define number of epochs\n",
    "epochs = range(len(history.history['loss']))\n",
    "\n",
    "# Plot grey lines (shared for all metrics)\n",
    "plt.plot(epochs, history.history['loss'], color='blue', linestyle='-')\n",
    "plt.plot(epochs, history.history['val_loss'], color='orange', linestyle='-')\n",
    "plt.plot(epochs, history.history['mae'], color='green', linestyle='-')\n",
    "plt.plot(epochs, history.history['val_mae'], color='red', linestyle='-')\n",
    "\n",
    "# Overlay colored circle markers\n",
    "plt.plot(epochs, history.history['loss'], marker='o', linestyle='None', label='Train MSE', color='blue')\n",
    "plt.plot(epochs, history.history['val_loss'], marker='o', linestyle='None', label='Val MSE', color='orange')\n",
    "plt.plot(epochs, history.history['mae'], marker='o', linestyle='None', label='Train MAE', color='green')\n",
    "plt.plot(epochs, history.history['val_mae'], marker='o', linestyle='None', label='Val MAE', color='red')\n",
    "\n",
    "plt.xlabel('Epoch')\n",
    "plt.ylabel('MSE/MAE')\n",
    "plt.legend()\n",
    "plt.grid(False)\n",
    "plt.title(\"Training and Validation Results\")\n",
    "plt.savefig(f\"results/model_A/training_history/training_history_plot_{run_id}.png\", dpi=300)\n",
    "plt.show()\n"
   ]
  },
  {
   "cell_type": "markdown",
   "id": "a1949061-258f-4153-918b-9e696521d285",
   "metadata": {},
   "source": [
    "### Saving training + validation loss/MAE"
   ]
  },
  {
   "cell_type": "code",
   "execution_count": 140,
   "id": "271026a9-8b91-46c5-9cc6-e98cae6eadd3",
   "metadata": {},
   "outputs": [],
   "source": [
    "# Create a DataFrame from the history\n",
    "history_df = pd.DataFrame(history.history)\n",
    "\n",
    "# Save to CSV\n",
    "history_df.to_csv(f'results/model_A/training_history/training_history_{run_id}.csv', index=False)\n"
   ]
  },
  {
   "cell_type": "code",
   "execution_count": null,
   "id": "ff6c5aab-8876-4d8a-9af8-590861b961b5",
   "metadata": {
    "editable": true,
    "slideshow": {
     "slide_type": ""
    },
    "tags": []
   },
   "outputs": [],
   "source": []
  }
 ],
 "metadata": {
  "kernelspec": {
   "display_name": "Python [conda env:base] *",
   "language": "python",
   "name": "conda-base-py"
  },
  "language_info": {
   "codemirror_mode": {
    "name": "ipython",
    "version": 3
   },
   "file_extension": ".py",
   "mimetype": "text/x-python",
   "name": "python",
   "nbconvert_exporter": "python",
   "pygments_lexer": "ipython3",
   "version": "3.12.3"
  }
 },
 "nbformat": 4,
 "nbformat_minor": 5
}
